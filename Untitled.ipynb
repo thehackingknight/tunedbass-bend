{
 "cells": [
  {
   "cell_type": "code",
   "execution_count": 4,
   "id": "59fb3547",
   "metadata": {},
   "outputs": [],
   "source": [
    "import youtube_dl\n",
    "\n",
    "url = 'https://www.youtube.com/watch?v=52ZuuPUwecw&ab_channel=SquashBeatsSquashBeats'"
   ]
  },
  {
   "cell_type": "code",
   "execution_count": 14,
   "id": "f11b5174",
   "metadata": {},
   "outputs": [
    {
     "name": "stdout",
     "output_type": "stream",
     "text": [
      "[youtube] 52ZuuPUwecw: Downloading webpage\n",
      "[youtube] 52ZuuPUwecw: Downloading MPD manifest\n"
     ]
    }
   ],
   "source": [
    "with youtube_dl.YoutubeDL() as ytdl:\n",
    "    info = ytdl.extract_info(url, download=False)\n",
    "    formats = info['formats']\n",
    "    link = formats[-1]['url'] + '&dl=1'\n",
    "    # print(link)"
   ]
  },
  {
   "cell_type": "code",
   "execution_count": null,
   "id": "b5063d92",
   "metadata": {},
   "outputs": [],
   "source": []
  },
  {
   "cell_type": "code",
   "execution_count": null,
   "id": "67694483",
   "metadata": {},
   "outputs": [],
   "source": []
  }
 ],
 "metadata": {
  "kernelspec": {
   "display_name": "Python 3",
   "language": "python",
   "name": "python3"
  },
  "language_info": {
   "codemirror_mode": {
    "name": "ipython",
    "version": 3
   },
   "file_extension": ".py",
   "mimetype": "text/x-python",
   "name": "python",
   "nbconvert_exporter": "python",
   "pygments_lexer": "ipython3",
   "version": "3.9.0"
  }
 },
 "nbformat": 4,
 "nbformat_minor": 5
}
